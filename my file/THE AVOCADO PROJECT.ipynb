{
 "cells": [
  {
   "cell_type": "markdown",
   "metadata": {},
   "source": [
    "# THE AVOCADO PROJECT\n",
    "---\n",
    "<div>\n",
    "<img src=\"OneDrive/Desktop/תיקיות/לימודים/שנה א/סמסטר ק/ניתוח נתונים/NewData/data-analytics-main/images/avocado.jpg\" width=\"400\"/>\n",
    "</div>"
   ]
  },
  {
   "cell_type": "code",
   "execution_count": 1,
   "metadata": {},
   "outputs": [],
   "source": [
    "import pandas as pd\n",
    "import numpy as np\n",
    "import matplotlib.pyplot as plt\n",
    "import seaborn as sns\n",
    "import matplotlib as mpl"
   ]
  },
  {
   "cell_type": "code",
   "execution_count": 2,
   "metadata": {},
   "outputs": [],
   "source": [
    "avocado_df=pd.read_csv('avocado.csv')"
   ]
  },
  {
   "cell_type": "code",
   "execution_count": 3,
   "metadata": {},
   "outputs": [
    {
     "name": "stdout",
     "output_type": "stream",
     "text": [
      "<class 'pandas.core.frame.DataFrame'>\n",
      "RangeIndex: 18249 entries, 0 to 18248\n",
      "Data columns (total 14 columns):\n",
      " #   Column        Non-Null Count  Dtype  \n",
      "---  ------        --------------  -----  \n",
      " 0   Unnamed: 0    18249 non-null  int64  \n",
      " 1   Date          18249 non-null  object \n",
      " 2   AveragePrice  18249 non-null  float64\n",
      " 3   total_sold    18249 non-null  float64\n",
      " 4   small_sold    18249 non-null  float64\n",
      " 5   large_sold    18249 non-null  float64\n",
      " 6   sma           18249 non-null  float64\n",
      " 7   Total Bags    18249 non-null  float64\n",
      " 8   Small Bags    18249 non-null  float64\n",
      " 9   Large Bags    18249 non-null  float64\n",
      " 10  XLarge Bags   18249 non-null  float64\n",
      " 11  type          18249 non-null  object \n",
      " 12  year          18249 non-null  int64  \n",
      " 13  region        18249 non-null  object \n",
      "dtypes: float64(9), int64(2), object(3)\n",
      "memory usage: 1.9+ MB\n"
     ]
    }
   ],
   "source": [
    "avocado_df.info()"
   ]
  },
  {
   "cell_type": "markdown",
   "metadata": {},
   "source": [
    "# 1 :"
   ]
  },
  {
   "cell_type": "code",
   "execution_count": 4,
   "metadata": {},
   "outputs": [
    {
     "data": {
      "text/html": [
       "<div>\n",
       "<style scoped>\n",
       "    .dataframe tbody tr th:only-of-type {\n",
       "        vertical-align: middle;\n",
       "    }\n",
       "\n",
       "    .dataframe tbody tr th {\n",
       "        vertical-align: top;\n",
       "    }\n",
       "\n",
       "    .dataframe thead th {\n",
       "        text-align: right;\n",
       "    }\n",
       "</style>\n",
       "<table border=\"1\" class=\"dataframe\">\n",
       "  <thead>\n",
       "    <tr style=\"text-align: right;\">\n",
       "      <th></th>\n",
       "      <th></th>\n",
       "      <th>total_sold</th>\n",
       "    </tr>\n",
       "    <tr>\n",
       "      <th>year</th>\n",
       "      <th>region</th>\n",
       "      <th></th>\n",
       "    </tr>\n",
       "  </thead>\n",
       "  <tbody>\n",
       "    <tr>\n",
       "      <th rowspan=\"5\" valign=\"top\">2015</th>\n",
       "      <th>Albany</th>\n",
       "      <td>3.874900e+04</td>\n",
       "    </tr>\n",
       "    <tr>\n",
       "      <th>Atlanta</th>\n",
       "      <td>2.233817e+05</td>\n",
       "    </tr>\n",
       "    <tr>\n",
       "      <th>BaltimoreWashington</th>\n",
       "      <td>3.908229e+05</td>\n",
       "    </tr>\n",
       "    <tr>\n",
       "      <th>Boise</th>\n",
       "      <td>3.638805e+04</td>\n",
       "    </tr>\n",
       "    <tr>\n",
       "      <th>Boston</th>\n",
       "      <td>2.639903e+05</td>\n",
       "    </tr>\n",
       "    <tr>\n",
       "      <th>...</th>\n",
       "      <th>...</th>\n",
       "      <td>...</td>\n",
       "    </tr>\n",
       "    <tr>\n",
       "      <th rowspan=\"5\" valign=\"top\">2018</th>\n",
       "      <th>Syracuse</th>\n",
       "      <td>4.362449e+04</td>\n",
       "    </tr>\n",
       "    <tr>\n",
       "      <th>Tampa</th>\n",
       "      <td>2.767523e+05</td>\n",
       "    </tr>\n",
       "    <tr>\n",
       "      <th>TotalUS</th>\n",
       "      <td>2.181801e+07</td>\n",
       "    </tr>\n",
       "    <tr>\n",
       "      <th>West</th>\n",
       "      <td>3.853212e+06</td>\n",
       "    </tr>\n",
       "    <tr>\n",
       "      <th>WestTexNewMexico</th>\n",
       "      <td>4.917009e+05</td>\n",
       "    </tr>\n",
       "  </tbody>\n",
       "</table>\n",
       "<p>216 rows × 1 columns</p>\n",
       "</div>"
      ],
      "text/plain": [
       "                            total_sold\n",
       "year region                           \n",
       "2015 Albany               3.874900e+04\n",
       "     Atlanta              2.233817e+05\n",
       "     BaltimoreWashington  3.908229e+05\n",
       "     Boise                3.638805e+04\n",
       "     Boston               2.639903e+05\n",
       "...                                ...\n",
       "2018 Syracuse             4.362449e+04\n",
       "     Tampa                2.767523e+05\n",
       "     TotalUS              2.181801e+07\n",
       "     West                 3.853212e+06\n",
       "     WestTexNewMexico     4.917009e+05\n",
       "\n",
       "[216 rows x 1 columns]"
      ]
     },
     "execution_count": 4,
     "metadata": {},
     "output_type": "execute_result"
    }
   ],
   "source": [
    "avocado_df.groupby(['year','region'])[['total_sold']].mean()"
   ]
  },
  {
   "cell_type": "markdown",
   "metadata": {},
   "source": [
    "# 2 :"
   ]
  },
  {
   "cell_type": "code",
   "execution_count": 5,
   "metadata": {},
   "outputs": [],
   "source": [
    "new_avocado_df = avocado_df.loc[(avocado_df.region == 'Albany') | (avocado_df.region == 'Atlanta')|(avocado_df.year == int('2016'))]"
   ]
  },
  {
   "cell_type": "code",
   "execution_count": 6,
   "metadata": {},
   "outputs": [
    {
     "name": "stdout",
     "output_type": "stream",
     "text": [
      "<class 'pandas.core.frame.DataFrame'>\n",
      "Int64Index: 6084 entries, 0 to 17624\n",
      "Data columns (total 14 columns):\n",
      " #   Column        Non-Null Count  Dtype  \n",
      "---  ------        --------------  -----  \n",
      " 0   Unnamed: 0    6084 non-null   int64  \n",
      " 1   Date          6084 non-null   object \n",
      " 2   AveragePrice  6084 non-null   float64\n",
      " 3   total_sold    6084 non-null   float64\n",
      " 4   small_sold    6084 non-null   float64\n",
      " 5   large_sold    6084 non-null   float64\n",
      " 6   sma           6084 non-null   float64\n",
      " 7   Total Bags    6084 non-null   float64\n",
      " 8   Small Bags    6084 non-null   float64\n",
      " 9   Large Bags    6084 non-null   float64\n",
      " 10  XLarge Bags   6084 non-null   float64\n",
      " 11  type          6084 non-null   object \n",
      " 12  year          6084 non-null   int64  \n",
      " 13  region        6084 non-null   object \n",
      "dtypes: float64(9), int64(2), object(3)\n",
      "memory usage: 713.0+ KB\n"
     ]
    }
   ],
   "source": [
    "new_avocado_df.info()"
   ]
  },
  {
   "cell_type": "markdown",
   "metadata": {},
   "source": [
    "# 3 :"
   ]
  },
  {
   "cell_type": "code",
   "execution_count": 7,
   "metadata": {},
   "outputs": [
    {
     "data": {
      "text/plain": [
       "804071.5971005877"
      ]
     },
     "execution_count": 7,
     "metadata": {},
     "output_type": "execute_result"
    }
   ],
   "source": [
    "new_avocado_df['total_sold'].mean()"
   ]
  },
  {
   "cell_type": "markdown",
   "metadata": {},
   "source": [
    "# 4 :"
   ]
  },
  {
   "cell_type": "code",
   "execution_count": 8,
   "metadata": {},
   "outputs": [],
   "source": [
    "# name_df['Date'] = pd.to_datetime(name_df['Date'])"
   ]
  },
  {
   "cell_type": "code",
   "execution_count": 9,
   "metadata": {},
   "outputs": [
    {
     "data": {
      "text/html": [
       "<div>\n",
       "<style scoped>\n",
       "    .dataframe tbody tr th:only-of-type {\n",
       "        vertical-align: middle;\n",
       "    }\n",
       "\n",
       "    .dataframe tbody tr th {\n",
       "        vertical-align: top;\n",
       "    }\n",
       "\n",
       "    .dataframe thead th {\n",
       "        text-align: right;\n",
       "    }\n",
       "</style>\n",
       "<table border=\"1\" class=\"dataframe\">\n",
       "  <thead>\n",
       "    <tr style=\"text-align: right;\">\n",
       "      <th></th>\n",
       "      <th>Unnamed: 0</th>\n",
       "      <th>Date</th>\n",
       "      <th>AveragePrice</th>\n",
       "      <th>total_sold</th>\n",
       "      <th>small_sold</th>\n",
       "      <th>large_sold</th>\n",
       "      <th>sma</th>\n",
       "      <th>Total Bags</th>\n",
       "      <th>Small Bags</th>\n",
       "      <th>Large Bags</th>\n",
       "      <th>XLarge Bags</th>\n",
       "      <th>type</th>\n",
       "      <th>year</th>\n",
       "      <th>region</th>\n",
       "      <th>month</th>\n",
       "    </tr>\n",
       "  </thead>\n",
       "  <tbody>\n",
       "    <tr>\n",
       "      <th>0</th>\n",
       "      <td>0</td>\n",
       "      <td>2015-12-27</td>\n",
       "      <td>1.33</td>\n",
       "      <td>64236.62</td>\n",
       "      <td>1036.74</td>\n",
       "      <td>54454.85</td>\n",
       "      <td>48.16</td>\n",
       "      <td>8696.87</td>\n",
       "      <td>8603.62</td>\n",
       "      <td>93.25</td>\n",
       "      <td>0.0</td>\n",
       "      <td>conventional</td>\n",
       "      <td>2015</td>\n",
       "      <td>Albany</td>\n",
       "      <td>12</td>\n",
       "    </tr>\n",
       "    <tr>\n",
       "      <th>1</th>\n",
       "      <td>1</td>\n",
       "      <td>2015-12-20</td>\n",
       "      <td>1.35</td>\n",
       "      <td>54876.98</td>\n",
       "      <td>674.28</td>\n",
       "      <td>44638.81</td>\n",
       "      <td>58.33</td>\n",
       "      <td>9505.56</td>\n",
       "      <td>9408.07</td>\n",
       "      <td>97.49</td>\n",
       "      <td>0.0</td>\n",
       "      <td>conventional</td>\n",
       "      <td>2015</td>\n",
       "      <td>Albany</td>\n",
       "      <td>12</td>\n",
       "    </tr>\n",
       "    <tr>\n",
       "      <th>2</th>\n",
       "      <td>2</td>\n",
       "      <td>2015-12-13</td>\n",
       "      <td>0.93</td>\n",
       "      <td>118220.22</td>\n",
       "      <td>794.70</td>\n",
       "      <td>109149.67</td>\n",
       "      <td>130.50</td>\n",
       "      <td>8145.35</td>\n",
       "      <td>8042.21</td>\n",
       "      <td>103.14</td>\n",
       "      <td>0.0</td>\n",
       "      <td>conventional</td>\n",
       "      <td>2015</td>\n",
       "      <td>Albany</td>\n",
       "      <td>12</td>\n",
       "    </tr>\n",
       "    <tr>\n",
       "      <th>3</th>\n",
       "      <td>3</td>\n",
       "      <td>2015-06-12</td>\n",
       "      <td>1.08</td>\n",
       "      <td>78992.15</td>\n",
       "      <td>1132.00</td>\n",
       "      <td>71976.41</td>\n",
       "      <td>72.58</td>\n",
       "      <td>5811.16</td>\n",
       "      <td>5677.40</td>\n",
       "      <td>133.76</td>\n",
       "      <td>0.0</td>\n",
       "      <td>conventional</td>\n",
       "      <td>2015</td>\n",
       "      <td>Albany</td>\n",
       "      <td>6</td>\n",
       "    </tr>\n",
       "    <tr>\n",
       "      <th>4</th>\n",
       "      <td>4</td>\n",
       "      <td>2015-11-29</td>\n",
       "      <td>1.28</td>\n",
       "      <td>51039.60</td>\n",
       "      <td>941.48</td>\n",
       "      <td>43838.39</td>\n",
       "      <td>75.78</td>\n",
       "      <td>6183.95</td>\n",
       "      <td>5986.26</td>\n",
       "      <td>197.69</td>\n",
       "      <td>0.0</td>\n",
       "      <td>conventional</td>\n",
       "      <td>2015</td>\n",
       "      <td>Albany</td>\n",
       "      <td>11</td>\n",
       "    </tr>\n",
       "  </tbody>\n",
       "</table>\n",
       "</div>"
      ],
      "text/plain": [
       "   Unnamed: 0       Date  AveragePrice  total_sold  small_sold  large_sold  \\\n",
       "0           0 2015-12-27          1.33    64236.62     1036.74    54454.85   \n",
       "1           1 2015-12-20          1.35    54876.98      674.28    44638.81   \n",
       "2           2 2015-12-13          0.93   118220.22      794.70   109149.67   \n",
       "3           3 2015-06-12          1.08    78992.15     1132.00    71976.41   \n",
       "4           4 2015-11-29          1.28    51039.60      941.48    43838.39   \n",
       "\n",
       "      sma  Total Bags  Small Bags  Large Bags  XLarge Bags          type  \\\n",
       "0   48.16     8696.87     8603.62       93.25          0.0  conventional   \n",
       "1   58.33     9505.56     9408.07       97.49          0.0  conventional   \n",
       "2  130.50     8145.35     8042.21      103.14          0.0  conventional   \n",
       "3   72.58     5811.16     5677.40      133.76          0.0  conventional   \n",
       "4   75.78     6183.95     5986.26      197.69          0.0  conventional   \n",
       "\n",
       "   year  region  month  \n",
       "0  2015  Albany     12  \n",
       "1  2015  Albany     12  \n",
       "2  2015  Albany     12  \n",
       "3  2015  Albany      6  \n",
       "4  2015  Albany     11  "
      ]
     },
     "execution_count": 9,
     "metadata": {},
     "output_type": "execute_result"
    }
   ],
   "source": [
    "avocado_df['Date'] = pd.to_datetime(avocado_df['Date'])\n",
    "avocado_df['month'] = pd.DatetimeIndex(avocado_df['Date']).month\n",
    "avocado_df.head()"
   ]
  },
  {
   "cell_type": "code",
   "execution_count": 10,
   "metadata": {},
   "outputs": [
    {
     "name": "stdout",
     "output_type": "stream",
     "text": [
      "<class 'pandas.core.frame.DataFrame'>\n",
      "RangeIndex: 18249 entries, 0 to 18248\n",
      "Data columns (total 15 columns):\n",
      " #   Column        Non-Null Count  Dtype         \n",
      "---  ------        --------------  -----         \n",
      " 0   Unnamed: 0    18249 non-null  int64         \n",
      " 1   Date          18249 non-null  datetime64[ns]\n",
      " 2   AveragePrice  18249 non-null  float64       \n",
      " 3   total_sold    18249 non-null  float64       \n",
      " 4   small_sold    18249 non-null  float64       \n",
      " 5   large_sold    18249 non-null  float64       \n",
      " 6   sma           18249 non-null  float64       \n",
      " 7   Total Bags    18249 non-null  float64       \n",
      " 8   Small Bags    18249 non-null  float64       \n",
      " 9   Large Bags    18249 non-null  float64       \n",
      " 10  XLarge Bags   18249 non-null  float64       \n",
      " 11  type          18249 non-null  object        \n",
      " 12  year          18249 non-null  int64         \n",
      " 13  region        18249 non-null  object        \n",
      " 14  month         18249 non-null  int64         \n",
      "dtypes: datetime64[ns](1), float64(9), int64(3), object(2)\n",
      "memory usage: 2.1+ MB\n"
     ]
    }
   ],
   "source": [
    "avocado_df.info()"
   ]
  },
  {
   "cell_type": "code",
   "execution_count": 11,
   "metadata": {},
   "outputs": [
    {
     "data": {
      "text/html": [
       "<div>\n",
       "<style scoped>\n",
       "    .dataframe tbody tr th:only-of-type {\n",
       "        vertical-align: middle;\n",
       "    }\n",
       "\n",
       "    .dataframe tbody tr th {\n",
       "        vertical-align: top;\n",
       "    }\n",
       "\n",
       "    .dataframe thead th {\n",
       "        text-align: right;\n",
       "    }\n",
       "</style>\n",
       "<table border=\"1\" class=\"dataframe\">\n",
       "  <thead>\n",
       "    <tr style=\"text-align: right;\">\n",
       "      <th></th>\n",
       "      <th>Total Bags</th>\n",
       "    </tr>\n",
       "    <tr>\n",
       "      <th>month</th>\n",
       "      <th></th>\n",
       "    </tr>\n",
       "  </thead>\n",
       "  <tbody>\n",
       "    <tr>\n",
       "      <th>1</th>\n",
       "      <td>245440.774227</td>\n",
       "    </tr>\n",
       "    <tr>\n",
       "      <th>2</th>\n",
       "      <td>261090.160107</td>\n",
       "    </tr>\n",
       "    <tr>\n",
       "      <th>3</th>\n",
       "      <td>249178.152598</td>\n",
       "    </tr>\n",
       "    <tr>\n",
       "      <th>4</th>\n",
       "      <td>274414.774683</td>\n",
       "    </tr>\n",
       "    <tr>\n",
       "      <th>5</th>\n",
       "      <td>257501.950315</td>\n",
       "    </tr>\n",
       "    <tr>\n",
       "      <th>6</th>\n",
       "      <td>227190.653542</td>\n",
       "    </tr>\n",
       "    <tr>\n",
       "      <th>7</th>\n",
       "      <td>252937.061282</td>\n",
       "    </tr>\n",
       "    <tr>\n",
       "      <th>8</th>\n",
       "      <td>212035.075852</td>\n",
       "    </tr>\n",
       "    <tr>\n",
       "      <th>9</th>\n",
       "      <td>213496.946574</td>\n",
       "    </tr>\n",
       "    <tr>\n",
       "      <th>10</th>\n",
       "      <td>217436.888492</td>\n",
       "    </tr>\n",
       "    <tr>\n",
       "      <th>11</th>\n",
       "      <td>227981.637241</td>\n",
       "    </tr>\n",
       "    <tr>\n",
       "      <th>12</th>\n",
       "      <td>230966.027374</td>\n",
       "    </tr>\n",
       "  </tbody>\n",
       "</table>\n",
       "</div>"
      ],
      "text/plain": [
       "          Total Bags\n",
       "month               \n",
       "1      245440.774227\n",
       "2      261090.160107\n",
       "3      249178.152598\n",
       "4      274414.774683\n",
       "5      257501.950315\n",
       "6      227190.653542\n",
       "7      252937.061282\n",
       "8      212035.075852\n",
       "9      213496.946574\n",
       "10     217436.888492\n",
       "11     227981.637241\n",
       "12     230966.027374"
      ]
     },
     "execution_count": 11,
     "metadata": {},
     "output_type": "execute_result"
    }
   ],
   "source": [
    "new_data_sept = avocado_df.groupby(['month'])[['Total Bags']].mean()\n",
    "new_data_sept\n"
   ]
  },
  {
   "cell_type": "markdown",
   "metadata": {},
   "source": [
    "# 5 :"
   ]
  },
  {
   "cell_type": "code",
   "execution_count": 12,
   "metadata": {},
   "outputs": [
    {
     "data": {
      "image/png": "[encoded data removed]",
      "text/plain": [
       "<Figure size 432x288 with 1 Axes>"
      ]
     },
     "metadata": {
      "needs_background": "light"
     },
     "output_type": "display_data"
    }
   ],
   "source": [
    "sns.barplot(y=\"total_sold\", x=\"type\", data=avocado_df)\n",
    "plt.show()"
   ]
  },
  {
   "cell_type": "code",
   "execution_count": 13,
   "metadata": {},
   "outputs": [],
   "source": [
    "avocado_df['type'] = pd.get_dummies(avocado_df['type'])\n"
   ]
  },
  {
   "cell_type": "code",
   "execution_count": 15,
   "metadata": {},
   "outputs": [
    {
     "data": {
      "text/plain": [
       "<AxesSubplot:>"
      ]
     },
     "execution_count": 15,
     "metadata": {},
     "output_type": "execute_result"
    },
    {
     "data": {
      "image/png": "[encoded data removed]",
      "text/plain": [
       "<Figure size 432x288 with 2 Axes>"
      ]
     },
     "metadata": {
      "needs_background": "light"
     },
     "output_type": "display_data"
    }
   ],
   "source": [
    "features =['AveragePrice', 'Total Bags', 'total_sold','type']\n",
    "correlation_matrix = avocado_df[features].corr()\n",
    "sns.heatmap(data=correlation_matrix,cmap='Greens', annot=True)"
   ]
  },
  {
   "cell_type": "code",
   "execution_count": 16,
   "metadata": {},
   "outputs": [
    {
     "data": {
      "text/html": [
       "<style  type=\"text/css\" >\n",
       "#T_3e0728c1_21f7_11ec_8ba2_b5d47c9a4ed6row0_col0,#T_3e0728c1_21f7_11ec_8ba2_b5d47c9a4ed6row1_col1,#T_3e0728c1_21f7_11ec_8ba2_b5d47c9a4ed6row2_col2,#T_3e0728c1_21f7_11ec_8ba2_b5d47c9a4ed6row3_col3{\n",
       "            background-color:  #b40426;\n",
       "            color:  #f1f1f1;\n",
       "        }#T_3e0728c1_21f7_11ec_8ba2_b5d47c9a4ed6row0_col1,#T_3e0728c1_21f7_11ec_8ba2_b5d47c9a4ed6row0_col2,#T_3e0728c1_21f7_11ec_8ba2_b5d47c9a4ed6row0_col3,#T_3e0728c1_21f7_11ec_8ba2_b5d47c9a4ed6row3_col0{\n",
       "            background-color:  #3b4cc0;\n",
       "            color:  #f1f1f1;\n",
       "        }#T_3e0728c1_21f7_11ec_8ba2_b5d47c9a4ed6row1_col0{\n",
       "            background-color:  #94b6ff;\n",
       "            color:  #000000;\n",
       "        }#T_3e0728c1_21f7_11ec_8ba2_b5d47c9a4ed6row1_col2{\n",
       "            background-color:  #be242e;\n",
       "            color:  #f1f1f1;\n",
       "        }#T_3e0728c1_21f7_11ec_8ba2_b5d47c9a4ed6row1_col3{\n",
       "            background-color:  #e1dad6;\n",
       "            color:  #000000;\n",
       "        }#T_3e0728c1_21f7_11ec_8ba2_b5d47c9a4ed6row2_col0{\n",
       "            background-color:  #92b4fe;\n",
       "            color:  #000000;\n",
       "        }#T_3e0728c1_21f7_11ec_8ba2_b5d47c9a4ed6row2_col1{\n",
       "            background-color:  #c0282f;\n",
       "            color:  #f1f1f1;\n",
       "        }#T_3e0728c1_21f7_11ec_8ba2_b5d47c9a4ed6row2_col3{\n",
       "            background-color:  #e3d9d3;\n",
       "            color:  #000000;\n",
       "        }#T_3e0728c1_21f7_11ec_8ba2_b5d47c9a4ed6row3_col1{\n",
       "            background-color:  #aac7fd;\n",
       "            color:  #000000;\n",
       "        }#T_3e0728c1_21f7_11ec_8ba2_b5d47c9a4ed6row3_col2{\n",
       "            background-color:  #b2ccfb;\n",
       "            color:  #000000;\n",
       "        }</style><table id=\"T_3e0728c1_21f7_11ec_8ba2_b5d47c9a4ed6\" ><thead>    <tr>        <th class=\"blank level0\" ></th>        <th class=\"col_heading level0 col0\" >AveragePrice</th>        <th class=\"col_heading level0 col1\" >Total Bags</th>        <th class=\"col_heading level0 col2\" >total_sold</th>        <th class=\"col_heading level0 col3\" >type</th>    </tr></thead><tbody>\n",
       "                <tr>\n",
       "                        <th id=\"T_3e0728c1_21f7_11ec_8ba2_b5d47c9a4ed6level0_row0\" class=\"row_heading level0 row0\" >AveragePrice</th>\n",
       "                        <td id=\"T_3e0728c1_21f7_11ec_8ba2_b5d47c9a4ed6row0_col0\" class=\"data row0 col0\" >1.000000</td>\n",
       "                        <td id=\"T_3e0728c1_21f7_11ec_8ba2_b5d47c9a4ed6row0_col1\" class=\"data row0 col1\" >-0.177088</td>\n",
       "                        <td id=\"T_3e0728c1_21f7_11ec_8ba2_b5d47c9a4ed6row0_col2\" class=\"data row0 col2\" >-0.192752</td>\n",
       "                        <td id=\"T_3e0728c1_21f7_11ec_8ba2_b5d47c9a4ed6row0_col3\" class=\"data row0 col3\" >-0.615845</td>\n",
       "            </tr>\n",
       "            <tr>\n",
       "                        <th id=\"T_3e0728c1_21f7_11ec_8ba2_b5d47c9a4ed6level0_row1\" class=\"row_heading level0 row1\" >Total Bags</th>\n",
       "                        <td id=\"T_3e0728c1_21f7_11ec_8ba2_b5d47c9a4ed6row1_col0\" class=\"data row1 col0\" >-0.177088</td>\n",
       "                        <td id=\"T_3e0728c1_21f7_11ec_8ba2_b5d47c9a4ed6row1_col1\" class=\"data row1 col1\" >1.000000</td>\n",
       "                        <td id=\"T_3e0728c1_21f7_11ec_8ba2_b5d47c9a4ed6row1_col2\" class=\"data row1 col2\" >0.963047</td>\n",
       "                        <td id=\"T_3e0728c1_21f7_11ec_8ba2_b5d47c9a4ed6row1_col3\" class=\"data row1 col3\" >0.217788</td>\n",
       "            </tr>\n",
       "            <tr>\n",
       "                        <th id=\"T_3e0728c1_21f7_11ec_8ba2_b5d47c9a4ed6level0_row2\" class=\"row_heading level0 row2\" >total_sold</th>\n",
       "                        <td id=\"T_3e0728c1_21f7_11ec_8ba2_b5d47c9a4ed6row2_col0\" class=\"data row2 col0\" >-0.192752</td>\n",
       "                        <td id=\"T_3e0728c1_21f7_11ec_8ba2_b5d47c9a4ed6row2_col1\" class=\"data row2 col1\" >0.963047</td>\n",
       "                        <td id=\"T_3e0728c1_21f7_11ec_8ba2_b5d47c9a4ed6row2_col2\" class=\"data row2 col2\" >1.000000</td>\n",
       "                        <td id=\"T_3e0728c1_21f7_11ec_8ba2_b5d47c9a4ed6row2_col3\" class=\"data row2 col3\" >0.232434</td>\n",
       "            </tr>\n",
       "            <tr>\n",
       "                        <th id=\"T_3e0728c1_21f7_11ec_8ba2_b5d47c9a4ed6level0_row3\" class=\"row_heading level0 row3\" >type</th>\n",
       "                        <td id=\"T_3e0728c1_21f7_11ec_8ba2_b5d47c9a4ed6row3_col0\" class=\"data row3 col0\" >-0.615845</td>\n",
       "                        <td id=\"T_3e0728c1_21f7_11ec_8ba2_b5d47c9a4ed6row3_col1\" class=\"data row3 col1\" >0.217788</td>\n",
       "                        <td id=\"T_3e0728c1_21f7_11ec_8ba2_b5d47c9a4ed6row3_col2\" class=\"data row3 col2\" >0.232434</td>\n",
       "                        <td id=\"T_3e0728c1_21f7_11ec_8ba2_b5d47c9a4ed6row3_col3\" class=\"data row3 col3\" >1.000000</td>\n",
       "            </tr>\n",
       "    </tbody></table>"
      ],
      "text/plain": [
       "<pandas.io.formats.style.Styler at 0x25c4e40ac10>"
      ]
     },
     "execution_count": 16,
     "metadata": {},
     "output_type": "execute_result"
    }
   ],
   "source": [
    "correlation_matrix = avocado_df[features].corr()\n",
    "correlation_matrix.style.background_gradient(cmap='coolwarm')"
   ]
  },
  {
   "cell_type": "code",
   "execution_count": 17,
   "metadata": {},
   "outputs": [
    {
     "data": {
      "text/plain": [
       "<AxesSubplot:xlabel='Total Bags', ylabel='total_sold'>"
      ]
     },
     "execution_count": 17,
     "metadata": {},
     "output_type": "execute_result"
    },
    {
     "data": {
      "image/png": "[encoded data removed]",
      "text/plain": [
       "<Figure size 432x288 with 1 Axes>"
      ]
     },
     "metadata": {
      "needs_background": "light"
     },
     "output_type": "display_data"
    }
   ],
   "source": [
    "sns.scatterplot(data=avocado_df, x='Total Bags', y='total_sold')"
   ]
  },
  {
   "cell_type": "code",
   "execution_count": null,
   "metadata": {},
   "outputs": [],
   "source": []
  }
 ],
 "metadata": {
  "kernelspec": {
   "display_name": "Python 3",
   "language": "python",
   "name": "python3"
  },
  "language_info": {
   "codemirror_mode": {
    "name": "ipython",
    "version": 3
   },
   "file_extension": ".py",
   "mimetype": "text/x-python",
   "name": "python",
   "nbconvert_exporter": "python",
   "pygments_lexer": "ipython3",
   "version": "3.8.5"
  }
 },
 "nbformat": 4,
 "nbformat_minor": 4
}
